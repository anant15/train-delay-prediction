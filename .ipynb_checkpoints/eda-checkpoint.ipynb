{
 "cells": [
  {
   "cell_type": "code",
   "execution_count": 163,
   "metadata": {},
   "outputs": [],
   "source": [
    "import numpy as np\n",
    "import pandas as pd"
   ]
  },
  {
   "cell_type": "code",
   "execution_count": 164,
   "metadata": {},
   "outputs": [],
   "source": [
    "df = pd.read_csv(\"train.csv\")"
   ]
  },
  {
   "cell_type": "markdown",
   "metadata": {},
   "source": [
    "### Understanding missing values"
   ]
  },
  {
   "cell_type": "code",
   "execution_count": 165,
   "metadata": {},
   "outputs": [
    {
     "name": "stdout",
     "output_type": "stream",
     "text": [
      "(31875, 12)\n",
      "runDate                 0\n",
      "stations                0\n",
      "trainCode               0\n",
      "trainStationId          0\n",
      "scheduledArrival      691\n",
      "scheduledDeparture    778\n",
      "actualArrival           0\n",
      "actualDeparture       100\n",
      "distance                0\n",
      "dayCount                0\n",
      "ArrivalDelay            0\n",
      "DepartureDelay          0\n",
      "dtype: int64\n"
     ]
    }
   ],
   "source": [
    "print(df.shape)\n",
    "print(df.isnull().sum(axis=0))"
   ]
  },
  {
   "cell_type": "markdown",
   "metadata": {},
   "source": [
    "NaNs in scheduledArrival probably correspond to starting stations and NaNs in scheduledDeparture correspond to ending points. But ideally #starting-stations should be equal to #ending-stations.\n",
    "\n",
    "This points out the possibility of slip-coaches. Let's check the number of unique end-points which should be equal to number trains."
   ]
  },
  {
   "cell_type": "code",
   "execution_count": 166,
   "metadata": {},
   "outputs": [
    {
     "name": "stdout",
     "output_type": "stream",
     "text": [
      "Number of unique trains \t\t 15\n",
      "Number of unqiue terminating points \t 17\n"
     ]
    }
   ],
   "source": [
    "print(\"Number of unique trains \\t\\t\", len(df[\"trainCode\"].unique()))\n",
    "print(\"Number of unqiue terminating points \\t\", \\\n",
    "      df.loc[(df[\"scheduledDeparture\"].isnull())][[\"stations\", \"trainCode\"]].drop_duplicates().shape[0])"
   ]
  },
  {
   "cell_type": "markdown",
   "metadata": {},
   "source": [
    "**This confirms the presence of slip-coaches cases. Let's explore which trains have multiple terminating points.**"
   ]
  },
  {
   "cell_type": "code",
   "execution_count": 167,
   "metadata": {},
   "outputs": [
    {
     "data": {
      "text/html": [
       "<div>\n",
       "<style scoped>\n",
       "    .dataframe tbody tr th:only-of-type {\n",
       "        vertical-align: middle;\n",
       "    }\n",
       "\n",
       "    .dataframe tbody tr th {\n",
       "        vertical-align: top;\n",
       "    }\n",
       "\n",
       "    .dataframe thead th {\n",
       "        text-align: right;\n",
       "    }\n",
       "</style>\n",
       "<table border=\"1\" class=\"dataframe\">\n",
       "  <thead>\n",
       "    <tr style=\"text-align: right;\">\n",
       "      <th></th>\n",
       "      <th>stations</th>\n",
       "      <th>trainCode</th>\n",
       "    </tr>\n",
       "  </thead>\n",
       "  <tbody>\n",
       "    <tr>\n",
       "      <th>2684</th>\n",
       "      <td>NGP</td>\n",
       "      <td>12139</td>\n",
       "    </tr>\n",
       "    <tr>\n",
       "      <th>2691</th>\n",
       "      <td>BPQ</td>\n",
       "      <td>12139</td>\n",
       "    </tr>\n",
       "    <tr>\n",
       "      <th>30064</th>\n",
       "      <td>KLK</td>\n",
       "      <td>12925</td>\n",
       "    </tr>\n",
       "    <tr>\n",
       "      <th>30070</th>\n",
       "      <td>ASR</td>\n",
       "      <td>12925</td>\n",
       "    </tr>\n",
       "  </tbody>\n",
       "</table>\n",
       "</div>"
      ],
      "text/plain": [
       "      stations  trainCode\n",
       "2684       NGP      12139\n",
       "2691       BPQ      12139\n",
       "30064      KLK      12925\n",
       "30070      ASR      12925"
      ]
     },
     "execution_count": 167,
     "metadata": {},
     "output_type": "execute_result"
    }
   ],
   "source": [
    "df_end_pts = df.loc[(df[\"scheduledDeparture\"].isnull())][[\"stations\", \"trainCode\"]].drop_duplicates()\n",
    "df_end_pts[df_end_pts.duplicated(subset=\"trainCode\", keep=False)]"
   ]
  },
  {
   "cell_type": "markdown",
   "metadata": {},
   "source": [
    "**We noticed the trainCode 12139 and 12925 has two end-points.** \\\n",
    "\n",
    "### Check actualArrival values when scheduledArrival is NaN "
   ]
  },
  {
   "cell_type": "code",
   "execution_count": 168,
   "metadata": {},
   "outputs": [
    {
     "data": {
      "text/html": [
       "<div>\n",
       "<style scoped>\n",
       "    .dataframe tbody tr th:only-of-type {\n",
       "        vertical-align: middle;\n",
       "    }\n",
       "\n",
       "    .dataframe tbody tr th {\n",
       "        vertical-align: top;\n",
       "    }\n",
       "\n",
       "    .dataframe thead th {\n",
       "        text-align: right;\n",
       "    }\n",
       "</style>\n",
       "<table border=\"1\" class=\"dataframe\">\n",
       "  <thead>\n",
       "    <tr style=\"text-align: right;\">\n",
       "      <th></th>\n",
       "      <th>actualArrival</th>\n",
       "      <th>ArrivalDelay</th>\n",
       "    </tr>\n",
       "  </thead>\n",
       "  <tbody>\n",
       "    <tr>\n",
       "      <th>0</th>\n",
       "      <td>2020-01-01 00:00:00</td>\n",
       "      <td>0</td>\n",
       "    </tr>\n",
       "    <tr>\n",
       "      <th>54</th>\n",
       "      <td>2020-01-02 00:00:00</td>\n",
       "      <td>0</td>\n",
       "    </tr>\n",
       "    <tr>\n",
       "      <th>108</th>\n",
       "      <td>2020-01-03 00:00:00</td>\n",
       "      <td>0</td>\n",
       "    </tr>\n",
       "    <tr>\n",
       "      <th>162</th>\n",
       "      <td>2020-01-04 00:00:00</td>\n",
       "      <td>0</td>\n",
       "    </tr>\n",
       "    <tr>\n",
       "      <th>216</th>\n",
       "      <td>2020-01-05 00:00:00</td>\n",
       "      <td>0</td>\n",
       "    </tr>\n",
       "    <tr>\n",
       "      <th>...</th>\n",
       "      <td>...</td>\n",
       "      <td>...</td>\n",
       "    </tr>\n",
       "    <tr>\n",
       "      <th>31655</th>\n",
       "      <td>2020-02-14 00:00:00</td>\n",
       "      <td>0</td>\n",
       "    </tr>\n",
       "    <tr>\n",
       "      <th>31699</th>\n",
       "      <td>2020-02-15 00:00:00</td>\n",
       "      <td>0</td>\n",
       "    </tr>\n",
       "    <tr>\n",
       "      <th>31743</th>\n",
       "      <td>2020-02-16 00:00:00</td>\n",
       "      <td>0</td>\n",
       "    </tr>\n",
       "    <tr>\n",
       "      <th>31787</th>\n",
       "      <td>2020-02-18 00:00:00</td>\n",
       "      <td>0</td>\n",
       "    </tr>\n",
       "    <tr>\n",
       "      <th>31831</th>\n",
       "      <td>2020-02-19 00:00:00</td>\n",
       "      <td>0</td>\n",
       "    </tr>\n",
       "  </tbody>\n",
       "</table>\n",
       "<p>691 rows × 2 columns</p>\n",
       "</div>"
      ],
      "text/plain": [
       "             actualArrival  ArrivalDelay\n",
       "0      2020-01-01 00:00:00             0\n",
       "54     2020-01-02 00:00:00             0\n",
       "108    2020-01-03 00:00:00             0\n",
       "162    2020-01-04 00:00:00             0\n",
       "216    2020-01-05 00:00:00             0\n",
       "...                    ...           ...\n",
       "31655  2020-02-14 00:00:00             0\n",
       "31699  2020-02-15 00:00:00             0\n",
       "31743  2020-02-16 00:00:00             0\n",
       "31787  2020-02-18 00:00:00             0\n",
       "31831  2020-02-19 00:00:00             0\n",
       "\n",
       "[691 rows x 2 columns]"
      ]
     },
     "execution_count": 168,
     "metadata": {},
     "output_type": "execute_result"
    }
   ],
   "source": [
    "df.loc[df[\"scheduledArrival\"].isnull(), [\"actualArrival\", \"ArrivalDelay\"]]"
   ]
  },
  {
   "cell_type": "markdown",
   "metadata": {},
   "source": [
    "We notice that actualArrival values for such cases have been given a placeholder value 00:00:00. We shall replace those with NaN so that we do not coincide with the real 00:00:00 arrival cases.\n",
    "\n",
    "### Replace 00:00:00 with NaN when scheduledArrival is NaN"
   ]
  },
  {
   "cell_type": "code",
   "execution_count": 169,
   "metadata": {},
   "outputs": [],
   "source": [
    "df.loc[df[\"scheduledArrival\"].isnull(), \"actualArrival\"] = np.nan"
   ]
  },
  {
   "cell_type": "markdown",
   "metadata": {},
   "source": [
    "### Check actualArrival values when scheduledDeparture is NaN"
   ]
  },
  {
   "cell_type": "code",
   "execution_count": 170,
   "metadata": {},
   "outputs": [
    {
     "data": {
      "text/html": [
       "<div>\n",
       "<style scoped>\n",
       "    .dataframe tbody tr th:only-of-type {\n",
       "        vertical-align: middle;\n",
       "    }\n",
       "\n",
       "    .dataframe tbody tr th {\n",
       "        vertical-align: top;\n",
       "    }\n",
       "\n",
       "    .dataframe thead th {\n",
       "        text-align: right;\n",
       "    }\n",
       "</style>\n",
       "<table border=\"1\" class=\"dataframe\">\n",
       "  <thead>\n",
       "    <tr style=\"text-align: right;\">\n",
       "      <th></th>\n",
       "      <th>actualDeparture</th>\n",
       "      <th>DepartureDelay</th>\n",
       "    </tr>\n",
       "  </thead>\n",
       "  <tbody>\n",
       "    <tr>\n",
       "      <th>53</th>\n",
       "      <td>2020-01-03 00:00:00</td>\n",
       "      <td>0</td>\n",
       "    </tr>\n",
       "    <tr>\n",
       "      <th>107</th>\n",
       "      <td>2020-01-04 00:00:00</td>\n",
       "      <td>0</td>\n",
       "    </tr>\n",
       "    <tr>\n",
       "      <th>161</th>\n",
       "      <td>2020-01-05 00:00:00</td>\n",
       "      <td>0</td>\n",
       "    </tr>\n",
       "    <tr>\n",
       "      <th>215</th>\n",
       "      <td>NaN</td>\n",
       "      <td>0</td>\n",
       "    </tr>\n",
       "    <tr>\n",
       "      <th>269</th>\n",
       "      <td>NaN</td>\n",
       "      <td>0</td>\n",
       "    </tr>\n",
       "    <tr>\n",
       "      <th>...</th>\n",
       "      <td>...</td>\n",
       "      <td>...</td>\n",
       "    </tr>\n",
       "    <tr>\n",
       "      <th>31786</th>\n",
       "      <td>2020-02-17 00:00:00</td>\n",
       "      <td>0</td>\n",
       "    </tr>\n",
       "    <tr>\n",
       "      <th>31824</th>\n",
       "      <td>NaN</td>\n",
       "      <td>38</td>\n",
       "    </tr>\n",
       "    <tr>\n",
       "      <th>31830</th>\n",
       "      <td>2020-02-19 00:00:00</td>\n",
       "      <td>0</td>\n",
       "    </tr>\n",
       "    <tr>\n",
       "      <th>31868</th>\n",
       "      <td>NaN</td>\n",
       "      <td>81</td>\n",
       "    </tr>\n",
       "    <tr>\n",
       "      <th>31874</th>\n",
       "      <td>2020-02-20 00:00:00</td>\n",
       "      <td>0</td>\n",
       "    </tr>\n",
       "  </tbody>\n",
       "</table>\n",
       "<p>778 rows × 2 columns</p>\n",
       "</div>"
      ],
      "text/plain": [
       "           actualDeparture  DepartureDelay\n",
       "53     2020-01-03 00:00:00               0\n",
       "107    2020-01-04 00:00:00               0\n",
       "161    2020-01-05 00:00:00               0\n",
       "215                    NaN               0\n",
       "269                    NaN               0\n",
       "...                    ...             ...\n",
       "31786  2020-02-17 00:00:00               0\n",
       "31824                  NaN              38\n",
       "31830  2020-02-19 00:00:00               0\n",
       "31868                  NaN              81\n",
       "31874  2020-02-20 00:00:00               0\n",
       "\n",
       "[778 rows x 2 columns]"
      ]
     },
     "execution_count": 170,
     "metadata": {},
     "output_type": "execute_result"
    }
   ],
   "source": [
    "df.loc[df[\"scheduledDeparture\"].isnull(), [\"actualDeparture\", \"DepartureDelay\"]]"
   ]
  },
  {
   "cell_type": "markdown",
   "metadata": {},
   "source": [
    "We notice that **some actualDeparture values for such cases have been given a placeholder value 00:00:00** Other are NaN.  **We shall replace those with NaN** so that we do not coincide with the real 00:00:00 arrival cases.\n",
    "Moreover, we notice that **some of the DepartureDelay in such cases are not 0. We shall also make these values 0**."
   ]
  },
  {
   "cell_type": "code",
   "execution_count": 171,
   "metadata": {},
   "outputs": [],
   "source": [
    "df.loc[df[\"scheduledDeparture\"].isnull(), \"actualDeparture\"] = np.nan\n",
    "df.loc[df[\"scheduledDeparture\"].isnull(), \"DepartureDelay\"] = np.nan\n",
    "\n",
    "df.loc[df[\"scheduledArrival\"].isnull(), \"actualArrival\"] = np.nan\n",
    "df.loc[df[\"scheduledArrival\"].isnull(), \"ArrivalDelay\"] = np.nan"
   ]
  },
  {
   "cell_type": "code",
   "execution_count": 172,
   "metadata": {},
   "outputs": [
    {
     "name": "stdout",
     "output_type": "stream",
     "text": [
      "runDate                 0\n",
      "stations                0\n",
      "trainCode               0\n",
      "trainStationId          0\n",
      "scheduledArrival      691\n",
      "scheduledDeparture    778\n",
      "actualArrival         691\n",
      "actualDeparture       778\n",
      "distance                0\n",
      "dayCount                0\n",
      "ArrivalDelay          691\n",
      "DepartureDelay        778\n",
      "dtype: int64\n"
     ]
    }
   ],
   "source": [
    "print(df.isnull().sum(axis=0))"
   ]
  },
  {
   "cell_type": "markdown",
   "metadata": {},
   "source": [
    "### Remove Reduntant Variables"
   ]
  },
  {
   "cell_type": "code",
   "execution_count": 173,
   "metadata": {},
   "outputs": [
    {
     "data": {
      "text/plain": [
       "True"
      ]
     },
     "execution_count": 173,
     "metadata": {},
     "output_type": "execute_result"
    }
   ],
   "source": [
    "df[[\"stations\", \"trainStationId\"]].drop_duplicates().shape[0] == len(df[\"stations\"].unique())"
   ]
  },
  {
   "cell_type": "markdown",
   "metadata": {},
   "source": [
    "This confirms one-to-one mapping between `stations` and `trainStationId`. Thus, we can drop `trainStationId`. "
   ]
  },
  {
   "cell_type": "code",
   "execution_count": 174,
   "metadata": {},
   "outputs": [
    {
     "data": {
      "text/html": [
       "<div>\n",
       "<style scoped>\n",
       "    .dataframe tbody tr th:only-of-type {\n",
       "        vertical-align: middle;\n",
       "    }\n",
       "\n",
       "    .dataframe tbody tr th {\n",
       "        vertical-align: top;\n",
       "    }\n",
       "\n",
       "    .dataframe thead th {\n",
       "        text-align: right;\n",
       "    }\n",
       "</style>\n",
       "<table border=\"1\" class=\"dataframe\">\n",
       "  <thead>\n",
       "    <tr style=\"text-align: right;\">\n",
       "      <th></th>\n",
       "      <th>runDate</th>\n",
       "      <th>stations</th>\n",
       "      <th>trainCode</th>\n",
       "      <th>scheduledArrival</th>\n",
       "      <th>scheduledDeparture</th>\n",
       "      <th>actualArrival</th>\n",
       "      <th>actualDeparture</th>\n",
       "      <th>distance</th>\n",
       "      <th>dayCount</th>\n",
       "      <th>ArrivalDelay</th>\n",
       "      <th>DepartureDelay</th>\n",
       "    </tr>\n",
       "  </thead>\n",
       "  <tbody>\n",
       "    <tr>\n",
       "      <th>0</th>\n",
       "      <td>2020-01-01</td>\n",
       "      <td>FZR</td>\n",
       "      <td>12138</td>\n",
       "      <td>NaN</td>\n",
       "      <td>2020-01-01 21:40:00</td>\n",
       "      <td>NaN</td>\n",
       "      <td>2020-01-01 21:40:00</td>\n",
       "      <td>0</td>\n",
       "      <td>0</td>\n",
       "      <td>NaN</td>\n",
       "      <td>0.0</td>\n",
       "    </tr>\n",
       "    <tr>\n",
       "      <th>1</th>\n",
       "      <td>2020-01-01</td>\n",
       "      <td>FDK</td>\n",
       "      <td>12138</td>\n",
       "      <td>2020-01-01 22:05:00</td>\n",
       "      <td>2020-01-01 22:07:00</td>\n",
       "      <td>2020-01-01 22:16:00</td>\n",
       "      <td>2020-01-01 22:18:00</td>\n",
       "      <td>32</td>\n",
       "      <td>0</td>\n",
       "      <td>11.0</td>\n",
       "      <td>11.0</td>\n",
       "    </tr>\n",
       "    <tr>\n",
       "      <th>2</th>\n",
       "      <td>2020-01-01</td>\n",
       "      <td>KKP</td>\n",
       "      <td>12138</td>\n",
       "      <td>2020-01-01 22:23:00</td>\n",
       "      <td>2020-01-01 22:25:00</td>\n",
       "      <td>2020-01-01 22:37:00</td>\n",
       "      <td>2020-01-01 22:38:00</td>\n",
       "      <td>45</td>\n",
       "      <td>0</td>\n",
       "      <td>14.0</td>\n",
       "      <td>13.0</td>\n",
       "    </tr>\n",
       "    <tr>\n",
       "      <th>3</th>\n",
       "      <td>2020-01-01</td>\n",
       "      <td>GJUT</td>\n",
       "      <td>12138</td>\n",
       "      <td>2020-01-01 22:38:00</td>\n",
       "      <td>2020-01-01 22:40:00</td>\n",
       "      <td>2020-01-01 22:56:00</td>\n",
       "      <td>2020-01-01 22:57:00</td>\n",
       "      <td>61</td>\n",
       "      <td>0</td>\n",
       "      <td>18.0</td>\n",
       "      <td>17.0</td>\n",
       "    </tr>\n",
       "    <tr>\n",
       "      <th>4</th>\n",
       "      <td>2020-01-01</td>\n",
       "      <td>GNA</td>\n",
       "      <td>12138</td>\n",
       "      <td>2020-01-01 22:54:00</td>\n",
       "      <td>2020-01-01 22:56:00</td>\n",
       "      <td>2020-01-01 23:14:00</td>\n",
       "      <td>2020-01-01 23:15:00</td>\n",
       "      <td>76</td>\n",
       "      <td>0</td>\n",
       "      <td>20.0</td>\n",
       "      <td>19.0</td>\n",
       "    </tr>\n",
       "  </tbody>\n",
       "</table>\n",
       "</div>"
      ],
      "text/plain": [
       "      runDate stations  trainCode     scheduledArrival   scheduledDeparture  \\\n",
       "0  2020-01-01      FZR      12138                  NaN  2020-01-01 21:40:00   \n",
       "1  2020-01-01      FDK      12138  2020-01-01 22:05:00  2020-01-01 22:07:00   \n",
       "2  2020-01-01      KKP      12138  2020-01-01 22:23:00  2020-01-01 22:25:00   \n",
       "3  2020-01-01     GJUT      12138  2020-01-01 22:38:00  2020-01-01 22:40:00   \n",
       "4  2020-01-01      GNA      12138  2020-01-01 22:54:00  2020-01-01 22:56:00   \n",
       "\n",
       "         actualArrival      actualDeparture  distance  dayCount  ArrivalDelay  \\\n",
       "0                  NaN  2020-01-01 21:40:00         0         0           NaN   \n",
       "1  2020-01-01 22:16:00  2020-01-01 22:18:00        32         0          11.0   \n",
       "2  2020-01-01 22:37:00  2020-01-01 22:38:00        45         0          14.0   \n",
       "3  2020-01-01 22:56:00  2020-01-01 22:57:00        61         0          18.0   \n",
       "4  2020-01-01 23:14:00  2020-01-01 23:15:00        76         0          20.0   \n",
       "\n",
       "   DepartureDelay  \n",
       "0             0.0  \n",
       "1            11.0  \n",
       "2            13.0  \n",
       "3            17.0  \n",
       "4            19.0  "
      ]
     },
     "execution_count": 174,
     "metadata": {},
     "output_type": "execute_result"
    }
   ],
   "source": [
    "df = df.drop([\"trainStationId\"], axis=1)\n",
    "df.head()"
   ]
  },
  {
   "cell_type": "markdown",
   "metadata": {},
   "source": [
    "**Ideally, forecasting data should be modelled with considering the temporal dynamics as well, but to make the analysis simpler, I intentionally choose to consider each sample as i.i.d and will drop `runDate`.**"
   ]
  },
  {
   "cell_type": "code",
   "execution_count": 175,
   "metadata": {},
   "outputs": [],
   "source": [
    "# df = df.drop([\"runDate\"], axis=1)\n",
    "# df.head()"
   ]
  },
  {
   "cell_type": "markdown",
   "metadata": {},
   "source": [
    "### Extract time variables from timestamp strings"
   ]
  },
  {
   "cell_type": "markdown",
   "metadata": {},
   "source": [
    "#### Extract year, month and date"
   ]
  },
  {
   "cell_type": "code",
   "execution_count": 176,
   "metadata": {},
   "outputs": [
    {
     "name": "stdout",
     "output_type": "stream",
     "text": [
      "Int64Index([2020], dtype='int64', name='runDate')\n",
      "Int64Index([1, 2], dtype='int64', name='runDate')\n"
     ]
    }
   ],
   "source": [
    "print(pd.DatetimeIndex(df['runDate']).year.unique())\n",
    "print(pd.DatetimeIndex(df['runDate']).month.unique())"
   ]
  },
  {
   "cell_type": "code",
   "execution_count": 177,
   "metadata": {},
   "outputs": [
    {
     "data": {
      "text/plain": [
       "Float64Index([0.0, nan], dtype='float64', name='scheduledDeparture')"
      ]
     },
     "execution_count": 177,
     "metadata": {},
     "output_type": "execute_result"
    }
   ],
   "source": [
    "pd.DatetimeIndex(df['scheduledDeparture']).second.unique()"
   ]
  },
  {
   "cell_type": "code",
   "execution_count": 178,
   "metadata": {},
   "outputs": [],
   "source": [
    "df[\"month\"] = pd.DatetimeIndex(df['runDate']).month.astype(\"category\")\n",
    "df[\"hourDeparture\"] = pd.DatetimeIndex(df['scheduledDeparture']).hour\n",
    "df[\"minuteDeparture\"] = pd.DatetimeIndex(df['scheduledDeparture']).minute\n",
    "df[\"hourArrival\"] = pd.DatetimeIndex(df['scheduledArrival']).hour\n",
    "df[\"minuteArrival\"] = pd.DatetimeIndex(df['scheduledArrival']).minute"
   ]
  },
  {
   "cell_type": "markdown",
   "metadata": {},
   "source": [
    "### Relation b/w Arrival Delay and Departure Delay"
   ]
  },
  {
   "cell_type": "code",
   "execution_count": 179,
   "metadata": {},
   "outputs": [
    {
     "data": {
      "text/plain": [
       "<matplotlib.axes._subplots.AxesSubplot at 0x7f9843b0d550>"
      ]
     },
     "execution_count": 179,
     "metadata": {},
     "output_type": "execute_result"
    },
    {
     "data": {
      "image/png": "[encoded data removed]",
      "text/plain": [
       "<Figure size 432x288 with 1 Axes>"
      ]
     },
     "metadata": {
      "needs_background": "light"
     },
     "output_type": "display_data"
    }
   ],
   "source": [
    "df.plot.scatter(x=\"ArrivalDelay\", y=\"DepartureDelay\")"
   ]
  },
  {
   "cell_type": "markdown",
   "metadata": {},
   "source": [
    "From the above plot, we see `Departure Delay` is highly co-related with `ArrivalDelay` in general. Also, the plot points out few data-points which for which is `ArrivalDelay` is very high (>400) but, `DepartureDelay` is very small. They look like anomalies. Let's look into this data-points.   "
   ]
  },
  {
   "cell_type": "code",
   "execution_count": 180,
   "metadata": {},
   "outputs": [
    {
     "data": {
      "text/html": [
       "<div>\n",
       "<style scoped>\n",
       "    .dataframe tbody tr th:only-of-type {\n",
       "        vertical-align: middle;\n",
       "    }\n",
       "\n",
       "    .dataframe tbody tr th {\n",
       "        vertical-align: top;\n",
       "    }\n",
       "\n",
       "    .dataframe thead th {\n",
       "        text-align: right;\n",
       "    }\n",
       "</style>\n",
       "<table border=\"1\" class=\"dataframe\">\n",
       "  <thead>\n",
       "    <tr style=\"text-align: right;\">\n",
       "      <th></th>\n",
       "      <th>ArrivalDelay</th>\n",
       "      <th>DepartureDelay</th>\n",
       "      <th>actualArrival</th>\n",
       "      <th>actualDeparture</th>\n",
       "      <th>scheduledArrival</th>\n",
       "      <th>scheduledDeparture</th>\n",
       "    </tr>\n",
       "  </thead>\n",
       "  <tbody>\n",
       "    <tr>\n",
       "      <th>12423</th>\n",
       "      <td>898.0</td>\n",
       "      <td>45.0</td>\n",
       "      <td>2020-01-02 06:13:00</td>\n",
       "      <td>2020-01-02 16:05:00</td>\n",
       "      <td>2020-01-02 13:05:00</td>\n",
       "      <td>2020-01-02 13:10:00</td>\n",
       "    </tr>\n",
       "  </tbody>\n",
       "</table>\n",
       "</div>"
      ],
      "text/plain": [
       "       ArrivalDelay  DepartureDelay        actualArrival      actualDeparture  \\\n",
       "12423         898.0            45.0  2020-01-02 06:13:00  2020-01-02 16:05:00   \n",
       "\n",
       "          scheduledArrival   scheduledDeparture  \n",
       "12423  2020-01-02 13:05:00  2020-01-02 13:10:00  "
      ]
     },
     "execution_count": 180,
     "metadata": {},
     "output_type": "execute_result"
    }
   ],
   "source": [
    "df.loc[(df[\"ArrivalDelay\"]>850) & (df[\"DepartureDelay\"]<100), \n",
    "       [\"ArrivalDelay\", \"DepartureDelay\", \"actualArrival\", \n",
    "        \"actualDeparture\", \"scheduledArrival\", \"scheduledDeparture\"]]"
   ]
  },
  {
   "cell_type": "markdown",
   "metadata": {},
   "source": [
    "As we can see, this is data acquisition error. Such instances presses for the need of checking the data and removing errorneous data."
   ]
  },
  {
   "cell_type": "code",
   "execution_count": 181,
   "metadata": {},
   "outputs": [
    {
     "data": {
      "text/html": [
       "<div>\n",
       "<style scoped>\n",
       "    .dataframe tbody tr th:only-of-type {\n",
       "        vertical-align: middle;\n",
       "    }\n",
       "\n",
       "    .dataframe tbody tr th {\n",
       "        vertical-align: top;\n",
       "    }\n",
       "\n",
       "    .dataframe thead th {\n",
       "        text-align: right;\n",
       "    }\n",
       "</style>\n",
       "<table border=\"1\" class=\"dataframe\">\n",
       "  <thead>\n",
       "    <tr style=\"text-align: right;\">\n",
       "      <th></th>\n",
       "      <th>calculatedArrivalDelay</th>\n",
       "      <th>ArrivalDelay</th>\n",
       "      <th>scheduledArrival</th>\n",
       "      <th>actualArrival</th>\n",
       "    </tr>\n",
       "  </thead>\n",
       "  <tbody>\n",
       "    <tr>\n",
       "      <th>45</th>\n",
       "      <td>-1315.0</td>\n",
       "      <td>125.0</td>\n",
       "      <td>2020-01-03 23:59:00</td>\n",
       "      <td>2020-01-03 02:04:00</td>\n",
       "    </tr>\n",
       "    <tr>\n",
       "      <th>99</th>\n",
       "      <td>-1266.0</td>\n",
       "      <td>174.0</td>\n",
       "      <td>2020-01-04 23:59:00</td>\n",
       "      <td>2020-01-04 02:53:00</td>\n",
       "    </tr>\n",
       "    <tr>\n",
       "      <th>153</th>\n",
       "      <td>-1306.0</td>\n",
       "      <td>134.0</td>\n",
       "      <td>2020-01-05 23:59:00</td>\n",
       "      <td>2020-01-05 02:13:00</td>\n",
       "    </tr>\n",
       "    <tr>\n",
       "      <th>207</th>\n",
       "      <td>-1318.0</td>\n",
       "      <td>122.0</td>\n",
       "      <td>2020-01-06 23:59:00</td>\n",
       "      <td>2020-01-06 02:01:00</td>\n",
       "    </tr>\n",
       "    <tr>\n",
       "      <th>261</th>\n",
       "      <td>-1229.0</td>\n",
       "      <td>211.0</td>\n",
       "      <td>2020-01-07 23:59:00</td>\n",
       "      <td>2020-01-07 03:30:00</td>\n",
       "    </tr>\n",
       "    <tr>\n",
       "      <th>...</th>\n",
       "      <td>...</td>\n",
       "      <td>...</td>\n",
       "      <td>...</td>\n",
       "      <td>...</td>\n",
       "    </tr>\n",
       "    <tr>\n",
       "      <th>31680</th>\n",
       "      <td>22.0</td>\n",
       "      <td>12.0</td>\n",
       "      <td>2020-02-15 10:01:00</td>\n",
       "      <td>2020-02-15 10:23:00</td>\n",
       "    </tr>\n",
       "    <tr>\n",
       "      <th>31724</th>\n",
       "      <td>185.0</td>\n",
       "      <td>175.0</td>\n",
       "      <td>2020-02-16 10:01:00</td>\n",
       "      <td>2020-02-16 13:06:00</td>\n",
       "    </tr>\n",
       "    <tr>\n",
       "      <th>31768</th>\n",
       "      <td>40.0</td>\n",
       "      <td>30.0</td>\n",
       "      <td>2020-02-17 10:01:00</td>\n",
       "      <td>2020-02-17 10:41:00</td>\n",
       "    </tr>\n",
       "    <tr>\n",
       "      <th>31812</th>\n",
       "      <td>18.0</td>\n",
       "      <td>8.0</td>\n",
       "      <td>2020-02-19 10:01:00</td>\n",
       "      <td>2020-02-19 10:19:00</td>\n",
       "    </tr>\n",
       "    <tr>\n",
       "      <th>31856</th>\n",
       "      <td>14.0</td>\n",
       "      <td>4.0</td>\n",
       "      <td>2020-02-20 10:01:00</td>\n",
       "      <td>2020-02-20 10:15:00</td>\n",
       "    </tr>\n",
       "  </tbody>\n",
       "</table>\n",
       "<p>3740 rows × 4 columns</p>\n",
       "</div>"
      ],
      "text/plain": [
       "       calculatedArrivalDelay  ArrivalDelay     scheduledArrival  \\\n",
       "45                    -1315.0         125.0  2020-01-03 23:59:00   \n",
       "99                    -1266.0         174.0  2020-01-04 23:59:00   \n",
       "153                   -1306.0         134.0  2020-01-05 23:59:00   \n",
       "207                   -1318.0         122.0  2020-01-06 23:59:00   \n",
       "261                   -1229.0         211.0  2020-01-07 23:59:00   \n",
       "...                       ...           ...                  ...   \n",
       "31680                    22.0          12.0  2020-02-15 10:01:00   \n",
       "31724                   185.0         175.0  2020-02-16 10:01:00   \n",
       "31768                    40.0          30.0  2020-02-17 10:01:00   \n",
       "31812                    18.0           8.0  2020-02-19 10:01:00   \n",
       "31856                    14.0           4.0  2020-02-20 10:01:00   \n",
       "\n",
       "             actualArrival  \n",
       "45     2020-01-03 02:04:00  \n",
       "99     2020-01-04 02:53:00  \n",
       "153    2020-01-05 02:13:00  \n",
       "207    2020-01-06 02:01:00  \n",
       "261    2020-01-07 03:30:00  \n",
       "...                    ...  \n",
       "31680  2020-02-15 10:23:00  \n",
       "31724  2020-02-16 13:06:00  \n",
       "31768  2020-02-17 10:41:00  \n",
       "31812  2020-02-19 10:19:00  \n",
       "31856  2020-02-20 10:15:00  \n",
       "\n",
       "[3740 rows x 4 columns]"
      ]
     },
     "execution_count": 181,
     "metadata": {},
     "output_type": "execute_result"
    }
   ],
   "source": [
    "df[\"calculatedArrivalDelay\"] = (pd.DatetimeIndex(df['actualArrival']) - pd.DatetimeIndex(df['scheduledArrival'])).astype('timedelta64[m]')\n",
    "\n",
    "df.loc[(df[\"calculatedArrivalDelay\"].notnull()) & (df[\"calculatedArrivalDelay\"] != df[\"ArrivalDelay\"]), \n",
    "       [\"calculatedArrivalDelay\", \"ArrivalDelay\", \"scheduledArrival\", \"actualArrival\"]]"
   ]
  },
  {
   "cell_type": "code",
   "execution_count": 202,
   "metadata": {},
   "outputs": [
    {
     "data": {
      "text/html": [
       "<div>\n",
       "<style scoped>\n",
       "    .dataframe tbody tr th:only-of-type {\n",
       "        vertical-align: middle;\n",
       "    }\n",
       "\n",
       "    .dataframe tbody tr th {\n",
       "        vertical-align: top;\n",
       "    }\n",
       "\n",
       "    .dataframe thead th {\n",
       "        text-align: right;\n",
       "    }\n",
       "</style>\n",
       "<table border=\"1\" class=\"dataframe\">\n",
       "  <thead>\n",
       "    <tr style=\"text-align: right;\">\n",
       "      <th></th>\n",
       "      <th>calculatedDepartureDelay</th>\n",
       "      <th>DepartureDelay</th>\n",
       "      <th>scheduledDeparture</th>\n",
       "      <th>actualDeparture</th>\n",
       "    </tr>\n",
       "  </thead>\n",
       "  <tbody>\n",
       "    <tr>\n",
       "      <th>31511</th>\n",
       "      <td>-20.0</td>\n",
       "      <td>0.0</td>\n",
       "      <td>2020-02-11 15:15:00</td>\n",
       "      <td>2020-02-11 14:55:00</td>\n",
       "    </tr>\n",
       "    <tr>\n",
       "      <th>30499</th>\n",
       "      <td>-19.0</td>\n",
       "      <td>1.0</td>\n",
       "      <td>2020-01-13 15:15:00</td>\n",
       "      <td>2020-01-13 14:56:00</td>\n",
       "    </tr>\n",
       "    <tr>\n",
       "      <th>31819</th>\n",
       "      <td>-19.0</td>\n",
       "      <td>1.0</td>\n",
       "      <td>2020-02-19 15:15:00</td>\n",
       "      <td>2020-02-19 14:56:00</td>\n",
       "    </tr>\n",
       "    <tr>\n",
       "      <th>30279</th>\n",
       "      <td>-19.0</td>\n",
       "      <td>1.0</td>\n",
       "      <td>2020-01-07 15:15:00</td>\n",
       "      <td>2020-01-07 14:56:00</td>\n",
       "    </tr>\n",
       "    <tr>\n",
       "      <th>30411</th>\n",
       "      <td>-19.0</td>\n",
       "      <td>1.0</td>\n",
       "      <td>2020-01-11 15:15:00</td>\n",
       "      <td>2020-01-11 14:56:00</td>\n",
       "    </tr>\n",
       "    <tr>\n",
       "      <th>...</th>\n",
       "      <td>...</td>\n",
       "      <td>...</td>\n",
       "      <td>...</td>\n",
       "      <td>...</td>\n",
       "    </tr>\n",
       "    <tr>\n",
       "      <th>19300</th>\n",
       "      <td>538.0</td>\n",
       "      <td>527.0</td>\n",
       "      <td>2020-01-11 23:44:00</td>\n",
       "      <td>2020-01-12 08:42:00</td>\n",
       "    </tr>\n",
       "    <tr>\n",
       "      <th>19301</th>\n",
       "      <td>540.0</td>\n",
       "      <td>529.0</td>\n",
       "      <td>2020-01-12 00:14:00</td>\n",
       "      <td>2020-01-12 09:14:00</td>\n",
       "    </tr>\n",
       "    <tr>\n",
       "      <th>19304</th>\n",
       "      <td>551.0</td>\n",
       "      <td>522.0</td>\n",
       "      <td>2020-01-12 02:21:00</td>\n",
       "      <td>2020-01-12 11:32:00</td>\n",
       "    </tr>\n",
       "    <tr>\n",
       "      <th>19303</th>\n",
       "      <td>554.0</td>\n",
       "      <td>535.0</td>\n",
       "      <td>2020-01-12 01:51:00</td>\n",
       "      <td>2020-01-12 11:05:00</td>\n",
       "    </tr>\n",
       "    <tr>\n",
       "      <th>19305</th>\n",
       "      <td>561.0</td>\n",
       "      <td>546.0</td>\n",
       "      <td>2020-01-12 03:55:00</td>\n",
       "      <td>2020-01-12 13:16:00</td>\n",
       "    </tr>\n",
       "  </tbody>\n",
       "</table>\n",
       "<p>2054 rows × 4 columns</p>\n",
       "</div>"
      ],
      "text/plain": [
       "       calculatedDepartureDelay  DepartureDelay   scheduledDeparture  \\\n",
       "31511                     -20.0             0.0  2020-02-11 15:15:00   \n",
       "30499                     -19.0             1.0  2020-01-13 15:15:00   \n",
       "31819                     -19.0             1.0  2020-02-19 15:15:00   \n",
       "30279                     -19.0             1.0  2020-01-07 15:15:00   \n",
       "30411                     -19.0             1.0  2020-01-11 15:15:00   \n",
       "...                         ...             ...                  ...   \n",
       "19300                     538.0           527.0  2020-01-11 23:44:00   \n",
       "19301                     540.0           529.0  2020-01-12 00:14:00   \n",
       "19304                     551.0           522.0  2020-01-12 02:21:00   \n",
       "19303                     554.0           535.0  2020-01-12 01:51:00   \n",
       "19305                     561.0           546.0  2020-01-12 03:55:00   \n",
       "\n",
       "           actualDeparture  \n",
       "31511  2020-02-11 14:55:00  \n",
       "30499  2020-01-13 14:56:00  \n",
       "31819  2020-02-19 14:56:00  \n",
       "30279  2020-01-07 14:56:00  \n",
       "30411  2020-01-11 14:56:00  \n",
       "...                    ...  \n",
       "19300  2020-01-12 08:42:00  \n",
       "19301  2020-01-12 09:14:00  \n",
       "19304  2020-01-12 11:32:00  \n",
       "19303  2020-01-12 11:05:00  \n",
       "19305  2020-01-12 13:16:00  \n",
       "\n",
       "[2054 rows x 4 columns]"
      ]
     },
     "execution_count": 202,
     "metadata": {},
     "output_type": "execute_result"
    }
   ],
   "source": [
    "df[\"calculatedDepartureDelay\"] = (pd.DatetimeIndex(df['actualDeparture']) \n",
    "                                  - pd.DatetimeIndex(df['scheduledDeparture'])).astype('timedelta64[m]')\n",
    "\n",
    "df.loc[(df[\"calculatedDepartureDelay\"].notnull()) & \n",
    "       (df[\"calculatedDepartureDelay\"] != df[\"DepartureDelay\"]), \n",
    "       [\"calculatedDepartureDelay\", \"DepartureDelay\", \n",
    "        \"scheduledDeparture\", \"actualDeparture\"]].sort_values(by=\"calculatedDepartureDelay\")"
   ]
  },
  {
   "cell_type": "markdown",
   "metadata": {},
   "source": [
    "There are 3740 errorneous samples related to arrival delays, and 2054 samples related to departure delays.\n",
    "\n",
    "The errors include but are not limited to:\n",
    "\n",
    "- Outdated schedules where `scheduledArrival` and `scheduledDeparture` are wrong, but listed delays are correct.\n",
    "- Wrong delay calculation.\n",
    "- Error in recording the dates when `actualArrival` or `actualDepature` is on the next day, relative to their scheduled timings.  \n",
    "\n",
    "**Although, these mistakes can be rectified programatically by putting multiple heruristics, I will choose to drop these rows for the first model considering time constraints.**"
   ]
  },
  {
   "cell_type": "markdown",
   "metadata": {},
   "source": [
    "### Drop erroneous data"
   ]
  },
  {
   "cell_type": "code",
   "execution_count": 204,
   "metadata": {},
   "outputs": [],
   "source": [
    "idx_erroneous = df[((df[\"calculatedDepartureDelay\"].notnull()) & \n",
    "       (df[\"calculatedDepartureDelay\"] != df[\"DepartureDelay\"])) |\n",
    "   ((df[\"calculatedArrivalDelay\"].notnull()) & \n",
    "    (df[\"calculatedArrivalDelay\"] != df[\"ArrivalDelay\"]))\n",
    "  ].index"
   ]
  },
  {
   "cell_type": "markdown",
   "metadata": {},
   "source": [
    "#### Is there any (station, train) pair which was completely removed as a part of erroneous data?"
   ]
  },
  {
   "cell_type": "code",
   "execution_count": 207,
   "metadata": {},
   "outputs": [
    {
     "data": {
      "text/html": [
       "<div>\n",
       "<style scoped>\n",
       "    .dataframe tbody tr th:only-of-type {\n",
       "        vertical-align: middle;\n",
       "    }\n",
       "\n",
       "    .dataframe tbody tr th {\n",
       "        vertical-align: top;\n",
       "    }\n",
       "\n",
       "    .dataframe thead th {\n",
       "        text-align: right;\n",
       "    }\n",
       "</style>\n",
       "<table border=\"1\" class=\"dataframe\">\n",
       "  <thead>\n",
       "    <tr style=\"text-align: right;\">\n",
       "      <th></th>\n",
       "      <th>stations</th>\n",
       "      <th>trainCode</th>\n",
       "    </tr>\n",
       "  </thead>\n",
       "  <tbody>\n",
       "    <tr>\n",
       "      <th>45</th>\n",
       "      <td>JL</td>\n",
       "      <td>12138</td>\n",
       "    </tr>\n",
       "    <tr>\n",
       "      <th>2674</th>\n",
       "      <td>WR</td>\n",
       "      <td>12139</td>\n",
       "    </tr>\n",
       "    <tr>\n",
       "      <th>4718</th>\n",
       "      <td>KJM</td>\n",
       "      <td>12295</td>\n",
       "    </tr>\n",
       "    <tr>\n",
       "      <th>4720</th>\n",
       "      <td>KPN</td>\n",
       "      <td>12295</td>\n",
       "    </tr>\n",
       "    <tr>\n",
       "      <th>4732</th>\n",
       "      <td>BPQ</td>\n",
       "      <td>12295</td>\n",
       "    </tr>\n",
       "    <tr>\n",
       "      <th>...</th>\n",
       "      <td>...</td>\n",
       "      <td>...</td>\n",
       "    </tr>\n",
       "    <tr>\n",
       "      <th>28361</th>\n",
       "      <td>BALU</td>\n",
       "      <td>12840</td>\n",
       "    </tr>\n",
       "    <tr>\n",
       "      <th>28365</th>\n",
       "      <td>JJKR</td>\n",
       "      <td>12840</td>\n",
       "    </tr>\n",
       "    <tr>\n",
       "      <th>28369</th>\n",
       "      <td>SRC</td>\n",
       "      <td>12840</td>\n",
       "    </tr>\n",
       "    <tr>\n",
       "      <th>30052</th>\n",
       "      <td>NZM</td>\n",
       "      <td>12925</td>\n",
       "    </tr>\n",
       "    <tr>\n",
       "      <th>30059</th>\n",
       "      <td>UMB</td>\n",
       "      <td>12925</td>\n",
       "    </tr>\n",
       "  </tbody>\n",
       "</table>\n",
       "<p>89 rows × 2 columns</p>\n",
       "</div>"
      ],
      "text/plain": [
       "      stations  trainCode\n",
       "45          JL      12138\n",
       "2674        WR      12139\n",
       "4718       KJM      12295\n",
       "4720       KPN      12295\n",
       "4732       BPQ      12295\n",
       "...        ...        ...\n",
       "28361     BALU      12840\n",
       "28365     JJKR      12840\n",
       "28369      SRC      12840\n",
       "30052      NZM      12925\n",
       "30059      UMB      12925\n",
       "\n",
       "[89 rows x 2 columns]"
      ]
     },
     "execution_count": 207,
     "metadata": {},
     "output_type": "execute_result"
    }
   ],
   "source": [
    "df.loc[idx_erroneous, [\"stations\", \"trainCode\"]].drop_duplicates()"
   ]
  },
  {
   "cell_type": "markdown",
   "metadata": {},
   "source": [
    "**Assumption** - There are 89 (train, station) pairs which will get removed as a part of removal of erroneous data. We will record these pairs for now, and won't be doing the prediction task for such pairs or may create a different or a seperate model which can handle samples corresponding to these pairs."
   ]
  },
  {
   "cell_type": "code",
   "execution_count": 157,
   "metadata": {},
   "outputs": [
    {
     "name": "stdout",
     "output_type": "stream",
     "text": [
      "runDate                       0\n",
      "stations                      0\n",
      "trainCode                     0\n",
      "scheduledArrival            644\n",
      "scheduledDeparture          760\n",
      "actualArrival               644\n",
      "actualDeparture             760\n",
      "distance                      0\n",
      "dayCount                      0\n",
      "ArrivalDelay                644\n",
      "DepartureDelay              760\n",
      "month                         0\n",
      "hourDeparture               760\n",
      "minuteDeparture             760\n",
      "hourArrival                 644\n",
      "minuteArrival               644\n",
      "calculatedArrivalDelay      644\n",
      "calculatedDepartureDelay    760\n",
      "dtype: int64\n"
     ]
    }
   ],
   "source": [
    "df_error_removed.shape\n",
    "print(df.isnull().sum(axis=0))"
   ]
  },
  {
   "cell_type": "markdown",
   "metadata": {},
   "source": [
    "### Understanding Outliers"
   ]
  },
  {
   "cell_type": "code",
   "execution_count": 65,
   "metadata": {},
   "outputs": [
    {
     "data": {
      "text/plain": [
       "<matplotlib.axes._subplots.AxesSubplot at 0x7f985c932290>"
      ]
     },
     "execution_count": 65,
     "metadata": {},
     "output_type": "execute_result"
    },
    {
     "data": {
      "image/png": "[encoded data removed]",
      "text/plain": [
       "<Figure size 432x288 with 1 Axes>"
      ]
     },
     "metadata": {
      "needs_background": "light"
     },
     "output_type": "display_data"
    }
   ],
   "source": [
    "df.boxplot(column=['ArrivalDelay', 'DepartureDelay'])"
   ]
  },
  {
   "cell_type": "markdown",
   "metadata": {},
   "source": [
    "These box-plots points-out the presence of outliers in the data."
   ]
  },
  {
   "cell_type": "markdown",
   "metadata": {},
   "source": [
    "### Outlier Detection using 98% percentile"
   ]
  },
  {
   "cell_type": "code",
   "execution_count": 76,
   "metadata": {},
   "outputs": [],
   "source": [
    "ts_95 = df.groupby(['trainCode', \"stations\"])['ArrivalDelay'].quantile(0.95).reset_index().rename(columns={'ArrivalDelay':'q95'})\n",
    "df = df.merge(ts_95, on=['trainCode', \"stations\"])\n",
    "\n",
    "outlier_counts = df.loc[df[\"ArrivalDelay\"] > df[\"q95\"]]\\\n",
    "    .groupby([\"stations\", \"trainCode\"])\\\n",
    "    .size().reset_index(name='counts')"
   ]
  },
  {
   "cell_type": "code",
   "execution_count": 162,
   "metadata": {},
   "outputs": [
    {
     "name": "stdout",
     "output_type": "stream",
     "text": [
      "(563, 2)\n",
      "(618, 2)\n",
      "Mode outlier count 1\n",
      "Median outlier count 3.0\n"
     ]
    }
   ],
   "source": [
    "ts_Q1 = df.groupby(['trainCode', \"stations\"])['ArrivalDelay'].quantile(0.25).reset_index().rename(columns={'ArrivalDelay':'Q1'})\n",
    "ts_Q3 = df.groupby(['trainCode', \"stations\"])['ArrivalDelay'].quantile(0.75).reset_index().rename(columns={'ArrivalDelay':'Q3'})\n",
    "ts = ts_Q1.merge(ts_Q3, on=[\"trainCode\", \"stations\"])\n",
    "ts_median = df.groupby(['trainCode', \"stations\"])['ArrivalDelay'].median().reset_index().rename(columns={'ArrivalDelay':'MedianArrivalDelay'})\n",
    "ts = ts.merge(ts_median, on=[\"trainCode\", \"stations\"])\n",
    "ts[\"IQR\"] = ts[\"Q3\"] - ts[\"Q1\"]\n",
    "ts[\"UpperArrivalDelay\"] = ts[\"Q3\"] + 1.5*ts[\"IQR\"]\n",
    "ts[\"LowerArrivalDelay\"] = ts[\"Q1\"] - 1.5*ts[\"IQR\"]\n",
    "df = df.merge(ts, on=['trainCode', \"stations\"])\n",
    "\n",
    "print(df.loc[df[\"ArrivalDelay\"] > df[\"UpperArrivalDelay\"], [\"stations\", \"trainCode\"]].drop_duplicates().shape)\n",
    "print(df[[\"stations\", \"trainCode\"]].drop_duplicates().shape)\n",
    "\n",
    "\n",
    "outlier_counts = df.loc[df[\"ArrivalDelay\"] > df[\"UpperArrivalDelay\"]]\\\n",
    "    .groupby([\"stations\", \"trainCode\"])\\\n",
    "    .size().reset_index(name='delay_count')\n",
    "\n",
    "print(\"Mode outlier count\", outlier_counts[\"delay_count\"].mode()[0])\n",
    "print(\"Median outlier count\", outlier_counts[\"delay_count\"].median())"
   ]
  },
  {
   "cell_type": "markdown",
   "metadata": {},
   "source": [
    "### Distance v/s ArrivalDelay"
   ]
  },
  {
   "cell_type": "markdown",
   "metadata": {},
   "source": [
    "#### Total length of the train vs average delay of the train"
   ]
  },
  {
   "cell_type": "code",
   "execution_count": 66,
   "metadata": {},
   "outputs": [
    {
     "data": {
      "text/plain": [
       "<matplotlib.axes._subplots.AxesSubplot at 0x7f985b5f5b90>"
      ]
     },
     "execution_count": 66,
     "metadata": {},
     "output_type": "execute_result"
    },
    {
     "data": {
      "image/png": "[encoded data removed]",
      "text/plain": [
       "<Figure size 432x288 with 1 Axes>"
      ]
     },
     "metadata": {
      "needs_background": "light"
     },
     "output_type": "display_data"
    }
   ],
   "source": [
    "x = df.groupby('trainCode')['ArrivalDelay'].mean().reset_index().sort_values(by=\"ArrivalDelay\")\n",
    "y = df.loc[df[\"scheduledDeparture\"].isnull(), [\"trainCode\", \"distance\"]].drop_duplicates().sort_values(by=\"distance\")\n",
    "pd.merge(x,y, on='trainCode').plot.scatter(x=\"distance\", y=\"ArrivalDelay\")"
   ]
  },
  {
   "cell_type": "markdown",
   "metadata": {},
   "source": [
    "The **The mode of outlier counts for (train, station) pairs is 1**. This signifies that for most of the (train, station) pairs, such intances have happened only once which we can consider as noise, and for the cases where the frequency count is >= 3 (median outlier count), we would choose those cases to be explicitly modelled by design, and we will create a boolean feature to mark such (train, station) pairs."
   ]
  },
  {
   "cell_type": "code",
   "execution_count": 86,
   "metadata": {},
   "outputs": [
    {
     "data": {
      "text/html": [
       "<div>\n",
       "<style scoped>\n",
       "    .dataframe tbody tr th:only-of-type {\n",
       "        vertical-align: middle;\n",
       "    }\n",
       "\n",
       "    .dataframe tbody tr th {\n",
       "        vertical-align: top;\n",
       "    }\n",
       "\n",
       "    .dataframe thead th {\n",
       "        text-align: right;\n",
       "    }\n",
       "</style>\n",
       "<table border=\"1\" class=\"dataframe\">\n",
       "  <thead>\n",
       "    <tr style=\"text-align: right;\">\n",
       "      <th></th>\n",
       "      <th>stations</th>\n",
       "      <th>trainCode</th>\n",
       "      <th>counts</th>\n",
       "    </tr>\n",
       "  </thead>\n",
       "  <tbody>\n",
       "    <tr>\n",
       "      <th>0</th>\n",
       "      <td>ADH</td>\n",
       "      <td>12925</td>\n",
       "      <td>3</td>\n",
       "    </tr>\n",
       "    <tr>\n",
       "      <th>2</th>\n",
       "      <td>ADI</td>\n",
       "      <td>12834</td>\n",
       "      <td>3</td>\n",
       "    </tr>\n",
       "    <tr>\n",
       "      <th>3</th>\n",
       "      <td>AGC</td>\n",
       "      <td>12138</td>\n",
       "      <td>3</td>\n",
       "    </tr>\n",
       "    <tr>\n",
       "      <th>4</th>\n",
       "      <td>AGC</td>\n",
       "      <td>12616</td>\n",
       "      <td>3</td>\n",
       "    </tr>\n",
       "    <tr>\n",
       "      <th>5</th>\n",
       "      <td>AGC</td>\n",
       "      <td>12617</td>\n",
       "      <td>3</td>\n",
       "    </tr>\n",
       "    <tr>\n",
       "      <th>...</th>\n",
       "      <td>...</td>\n",
       "      <td>...</td>\n",
       "      <td>...</td>\n",
       "    </tr>\n",
       "    <tr>\n",
       "      <th>675</th>\n",
       "      <td>WR</td>\n",
       "      <td>12834</td>\n",
       "      <td>3</td>\n",
       "    </tr>\n",
       "    <tr>\n",
       "      <th>676</th>\n",
       "      <td>WRR</td>\n",
       "      <td>12139</td>\n",
       "      <td>3</td>\n",
       "    </tr>\n",
       "    <tr>\n",
       "      <th>677</th>\n",
       "      <td>WRR</td>\n",
       "      <td>12656</td>\n",
       "      <td>3</td>\n",
       "    </tr>\n",
       "    <tr>\n",
       "      <th>678</th>\n",
       "      <td>WRR</td>\n",
       "      <td>12722</td>\n",
       "      <td>3</td>\n",
       "    </tr>\n",
       "    <tr>\n",
       "      <th>679</th>\n",
       "      <td>ZN</td>\n",
       "      <td>12722</td>\n",
       "      <td>3</td>\n",
       "    </tr>\n",
       "  </tbody>\n",
       "</table>\n",
       "<p>576 rows × 3 columns</p>\n",
       "</div>"
      ],
      "text/plain": [
       "    stations  trainCode  counts\n",
       "0        ADH      12925       3\n",
       "2        ADI      12834       3\n",
       "3        AGC      12138       3\n",
       "4        AGC      12616       3\n",
       "5        AGC      12617       3\n",
       "..       ...        ...     ...\n",
       "675       WR      12834       3\n",
       "676      WRR      12139       3\n",
       "677      WRR      12656       3\n",
       "678      WRR      12722       3\n",
       "679       ZN      12722       3\n",
       "\n",
       "[576 rows x 3 columns]"
      ]
     },
     "execution_count": 86,
     "metadata": {},
     "output_type": "execute_result"
    }
   ],
   "source": [
    "outlier_counts[outlier_counts[\"counts\"]>=3]"
   ]
  },
  {
   "cell_type": "markdown",
   "metadata": {},
   "source": [
    "Comparing outlier detection with IQR scheme followed by marking only those station pairs which have more than 2 instances of such extreme delays seems "
   ]
  },
  {
   "cell_type": "code",
   "execution_count": 401,
   "metadata": {},
   "outputs": [
    {
     "ename": "NameError",
     "evalue": "name 'o_df' is not defined",
     "output_type": "error",
     "traceback": [
      "\u001b[0;31m---------------------------------------------------------------------------\u001b[0m",
      "\u001b[0;31mNameError\u001b[0m                                 Traceback (most recent call last)",
      "\u001b[0;32m<ipython-input-401-d0c34410c0bd>\u001b[0m in \u001b[0;36m<module>\u001b[0;34m\u001b[0m\n\u001b[0;32m----> 1\u001b[0;31m \u001b[0mo_temp_df\u001b[0m \u001b[0;34m=\u001b[0m \u001b[0mo_df\u001b[0m\u001b[0;34m.\u001b[0m\u001b[0mgroupby\u001b[0m\u001b[0;34m(\u001b[0m\u001b[0;34m[\u001b[0m\u001b[0;34m'hourArrival'\u001b[0m\u001b[0;34m,\u001b[0m \u001b[0;34m'month'\u001b[0m\u001b[0;34m]\u001b[0m\u001b[0;34m)\u001b[0m\u001b[0;34m[\u001b[0m\u001b[0;34m\"ArrivalDelay\"\u001b[0m\u001b[0;34m]\u001b[0m\u001b[0;34m.\u001b[0m\u001b[0mmean\u001b[0m\u001b[0;34m(\u001b[0m\u001b[0;34m)\u001b[0m\u001b[0;34m\u001b[0m\u001b[0;34m\u001b[0m\u001b[0m\n\u001b[0m\u001b[1;32m      2\u001b[0m \u001b[0mo_temp_df\u001b[0m\u001b[0;34m.\u001b[0m\u001b[0munstack\u001b[0m\u001b[0;34m(\u001b[0m\u001b[0;34m)\u001b[0m\u001b[0;34m.\u001b[0m\u001b[0mplot\u001b[0m\u001b[0;34m(\u001b[0m\u001b[0mkind\u001b[0m\u001b[0;34m=\u001b[0m\u001b[0;34m'bar'\u001b[0m\u001b[0;34m)\u001b[0m\u001b[0;34m\u001b[0m\u001b[0;34m\u001b[0m\u001b[0m\n",
      "\u001b[0;31mNameError\u001b[0m: name 'o_df' is not defined"
     ]
    }
   ],
   "source": [
    "o_temp_df = o_df.groupby(['hourArrival', 'month'])[\"ArrivalDelay\"].mean()\n",
    "o_temp_df.unstack().plot(kind='bar')"
   ]
  },
  {
   "cell_type": "code",
   "execution_count": 206,
   "metadata": {},
   "outputs": [
    {
     "data": {
      "image/png": "[encoded data removed]",
      "text/plain": [
       "<Figure size 432x288 with 1 Axes>"
      ]
     },
     "metadata": {
      "needs_background": "light"
     },
     "output_type": "display_data"
    }
   ],
   "source": [
    "import pandas as pd\n",
    "from sklearn.datasets import load_iris\n",
    "from sklearn.cluster import KMeans\n",
    "import matplotlib.pyplot as plt\n",
    "\n",
    "delay_data = o_df[['ArrivalDelay', 'DepartureDelay']]\n",
    "\n",
    "sse = {}\n",
    "for k in range(1, 20):\n",
    "    kmeans = KMeans(n_clusters=k, max_iter=1000).fit(delay_data)\n",
    "    sse[k] = kmeans.inertia_ # Inertia: Sum of distances of samples to their closest cluster center\n",
    "\n",
    "plt.figure()\n",
    "plt.plot(list(sse.keys()), list(sse.values()))\n",
    "plt.xlabel(\"Number of cluster\")\n",
    "plt.ylabel(\"SSE\")\n",
    "plt.show()"
   ]
  }
 ],
 "metadata": {
  "kernelspec": {
   "display_name": "Python 3",
   "language": "python",
   "name": "python3"
  },
  "language_info": {
   "codemirror_mode": {
    "name": "ipython",
    "version": 3
   },
   "file_extension": ".py",
   "mimetype": "text/x-python",
   "name": "python",
   "nbconvert_exporter": "python",
   "pygments_lexer": "ipython3",
   "version": "3.7.6"
  }
 },
 "nbformat": 4,
 "nbformat_minor": 4
}
